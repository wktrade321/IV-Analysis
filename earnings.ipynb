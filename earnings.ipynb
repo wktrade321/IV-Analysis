{
 "cells": [
  {
   "cell_type": "code",
   "execution_count": null,
   "metadata": {},
   "outputs": [],
   "source": [
    "import os\n",
    "from dotenv import load_dotenv\n",
    "import asyncio\n",
    "import json\n",
    "import yfinance as yf\n",
    "import pandas as pd\n",
    "from datetime import date, datetime, timedelta\n",
    "import requests\n",
    "from requests import JSONDecodeError\n",
    "import zipfile\n",
    "from io import BytesIO\n",
    "from pandas.tseries.offsets import BDay\n",
    "from tqdm import tqdm\n",
    "from IPython.display import clear_output\n",
    "import time\n",
    "from bs4 import BeautifulSoup\n",
    "import relative_value as rv\n",
    "\n",
    "\n",
    "\n",
    "load_dotenv('e.env')"
   ]
  },
  {
   "cell_type": "code",
   "execution_count": 2,
   "metadata": {},
   "outputs": [],
   "source": [
    "def get_pre_releases(yahoo_screen_url: str, next_x_days: int=7, write_to_file: bool=False):\n",
    "    dfs = []\n",
    "    \n",
    "    tickers = rv.get_available_tickers(yahoo_screen_url=yahoo_screen_url, etf_screen_url=None, earnings_days_forward=0, earnings_days_back=0, etf_limit=0)[0]\n",
    "    earnings_next_x = rv.get_earnings_next_x_days(next_x_days)[['earnings_date']]\n",
    "\n",
    "    for ticker in tqdm(tickers):\n",
    "        if ticker not in earnings_next_x.index:\n",
    "            continue\n",
    "        \n",
    "        print(ticker)\n",
    "        #try:\n",
    "        time.sleep(0.5)\n",
    "        t = yf.Ticker(ticker)\n",
    "\n",
    "        if len(t.get_news())==0:\n",
    "            clear_output()\n",
    "            continue\n",
    "\n",
    "        news = pd.DataFrame(t.get_news())[['title', 'publisher','providerPublishTime','link']]\n",
    "        news['providerPublishTime'] = (1_000_000_000*news['providerPublishTime']).apply(pd.Timestamp)\n",
    "        news['ticker'] = ticker\n",
    "        news = news[news['title'].str.lower().str.contains('preliminary')]\n",
    "        if news.size == 0:\n",
    "            clear_output()\n",
    "            continue\n",
    "        dfs.append(news)\n",
    "\n",
    "        clear_output()\n",
    "\n",
    "    if len(dfs) == 0:\n",
    "        print('No Pre-Releases Found')\n",
    "        return None\n",
    "    \n",
    "    \n",
    "    pre_releases = pd.concat(dfs).set_index('ticker')\n",
    "\n",
    "    pre_releases = pre_releases.join(earnings_next_x, how='left').rename(columns={'providerPublishTime': 'published'}).sort_values(by='earnings_date')\n",
    "    pre_releases = pre_releases.drop_duplicates()\n",
    "    if write_to_file:\n",
    "        pre_releases.to_csv(f'pre_releases_{datetime.today().date()}.csv')\n",
    "\n",
    "    return pre_releases"
   ]
  },
  {
   "cell_type": "code",
   "execution_count": null,
   "metadata": {},
   "outputs": [],
   "source": [
    "##########################\n",
    "#MAIN\n",
    "##########################\n",
    "\n",
    "#pre_releases = get_pre_releases(volume_file='option_volume_gt1k.csv', next_x_days=2)"
   ]
  }
 ],
 "metadata": {
  "kernelspec": {
   "display_name": "Python 3",
   "language": "python",
   "name": "python3"
  },
  "language_info": {
   "codemirror_mode": {
    "name": "ipython",
    "version": 3
   },
   "file_extension": ".py",
   "mimetype": "text/x-python",
   "name": "python",
   "nbconvert_exporter": "python",
   "pygments_lexer": "ipython3",
   "version": "3.11.3"
  },
  "orig_nbformat": 4,
  "vscode": {
   "interpreter": {
    "hash": "916dbcbb3f70747c44a77c7bcd40155683ae19c65e1c03b4aa3499c5328201f1"
   }
  }
 },
 "nbformat": 4,
 "nbformat_minor": 2
}
