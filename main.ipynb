{
 "cells": [
  {
   "cell_type": "code",
   "execution_count": 2,
   "metadata": {},
   "outputs": [],
   "source": [
    "import relative_value as rv\n",
    "import etf_dispersion as etf\n",
    "import pandas as pd\n",
    "import earnings as er\n",
    "import account_info as ai \n",
    "from datetime import datetime\n",
    "import yfinance as yf\n",
    "\n",
    "import warnings\n",
    "warnings.filterwarnings(\"ignore\", module = 'pandas')\n",
    "warnings.filterwarnings(\"ignore\", module = 'relative_value')"
   ]
  },
  {
   "cell_type": "code",
   "execution_count": 3,
   "metadata": {},
   "outputs": [
    {
     "name": "stdout",
     "output_type": "stream",
     "text": [
      "VIX Futures Curve Contango:\n",
      "Roll Yield     -0.3%\n",
      "1-2           16.97%\n",
      "2-3            9.80%\n",
      "3-4            3.76%\n",
      "4-5            2.43%\n",
      "5-6            1.93%\n",
      "6-7            5.69%\n",
      "7-8            1.38%\n",
      "dtype: object\n"
     ]
    }
   ],
   "source": [
    "contango = rv.get_current_vix_contango()"
   ]
  },
  {
   "cell_type": "code",
   "execution_count": null,
   "metadata": {},
   "outputs": [],
   "source": [
    "### EQUITY SCREENER: \n",
    "# Region = United States\n",
    "# Avg Vol (3 Month) > 2,000,000\n",
    "# Price (Intraday) > 3\n",
    "# Market Cap (Intraday) = Mid, Large, Mega\n",
    "# Exchange = NYSE + All NASDAQs\n",
    "\n",
    "### ETF SCREENER:\n",
    "# Region = United States\n",
    "# Avg Vol (3 Month) > 5,000,000\n",
    "# Price (EOD) > 2\n",
    "\n",
    "### PRE-RELEASE SCREENER:\n",
    "# Same as equity screener except Avg Vol (3 Month) > 1,000,000\n",
    "\n",
    "stock_screen = 'https://finance.yahoo.com/screener/unsaved/92ac1279-90e3-47b7-96f2-1c3f70fcaf14'\n",
    "etf_screen = 'https://finance.yahoo.com/screener/unsaved/59bc6be8-3380-4409-af36-0e0b17ff86db'\n",
    "pre_release_screen = 'https://finance.yahoo.com/screener/unsaved/1ef4291e-a179-4a26-ab7c-73cd97158a46'"
   ]
  },
  {
   "cell_type": "code",
   "execution_count": null,
   "metadata": {},
   "outputs": [],
   "source": [
    "\n",
    "\n",
    "#### update and plot relative value trade opps before market open (using previous day's IVs from csv)\n",
    "rv.update_and_plot_ratios(yahoo_screen_url=stock_screen,\n",
    "                          etf_screen_url=etf_screen,\n",
    "                          basepath='IV_Data_2023-04-05', plot_vrp=True, rows=1, use_df=True, \n",
    "                          corr_thresholds=(0.94,0.95,0.96,0.86,0.92,0.94))"
   ]
  },
  {
   "cell_type": "code",
   "execution_count": null,
   "metadata": {},
   "outputs": [],
   "source": [
    "#### plot ratios during market hours using current IV\n",
    "rv.plot_current_ratios(yahoo_screen_url=stock_screen, \n",
    "                       etf_screen_url=etf_screen,\n",
    "                       basepath='IV_Data_2023-04-05', plot_vrp=False, use_df=False, etf_limit=20, corr_thresholds=(0.88,0.90,0.92,0.86,0.92,0.94),\n",
    "                       strike_count=2, volume_lookback=1, dte_threshold=20, z_window=200)  "
   ]
  },
  {
   "cell_type": "code",
   "execution_count": null,
   "metadata": {},
   "outputs": [],
   "source": [
    "#### get ETF implied corrs and dispersion using historical data\n",
    "implied_corrs_30, implied_corrs_60, implied_corrs_90 = etf.get_ivs_and_implied_corrs(yahoo_screen=etf_screen,\n",
    "                                                                                     basepath='IV_Data_2023-04-05', n=500, use_hist_data=True, volume_threshold=100_000,\n",
    "                                                                                     share_threshold=0.2) "
   ]
  },
  {
   "cell_type": "code",
   "execution_count": null,
   "metadata": {},
   "outputs": [],
   "source": [
    "pre_releases = er.get_pre_releases(yahoo_screen_url = pre_release_screen, next_x_days=30)"
   ]
  },
  {
   "cell_type": "code",
   "execution_count": null,
   "metadata": {},
   "outputs": [],
   "source": [
    "trades = ai.get_trades(start_date=datetime(2023,5,1), write_to_file=True)\n",
    "vixtrades = ai.get_trades_by_exp(start_date=datetime(2023,5,1), write_to_file=True, symbols = ['VXX', 'UVXY'])"
   ]
  }
 ],
 "metadata": {
  "kernelspec": {
   "display_name": "Python 3",
   "language": "python",
   "name": "python3"
  },
  "language_info": {
   "codemirror_mode": {
    "name": "ipython",
    "version": 3
   },
   "file_extension": ".py",
   "mimetype": "text/x-python",
   "name": "python",
   "nbconvert_exporter": "python",
   "pygments_lexer": "ipython3",
   "version": "3.11.3"
  },
  "orig_nbformat": 4
 },
 "nbformat": 4,
 "nbformat_minor": 2
}
