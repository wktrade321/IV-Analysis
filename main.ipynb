{
 "cells": [
  {
   "cell_type": "code",
   "execution_count": 9,
   "metadata": {},
   "outputs": [],
   "source": [
    "import relative_value as rv\n",
    "import etf_dispersion as etf\n",
    "import pandas as pd\n",
    "import earnings as er\n",
    "import account_info as ai \n",
    "from datetime import datetime\n",
    "import yfinance as yf"
   ]
  },
  {
   "cell_type": "code",
   "execution_count": null,
   "metadata": {},
   "outputs": [],
   "source": [
    "contango = rv.get_current_vix_contango()"
   ]
  },
  {
   "cell_type": "code",
   "execution_count": null,
   "metadata": {},
   "outputs": [],
   "source": [
    "### EQUITY SCREENER: \n",
    "# Region = United States\n",
    "# Avg Vol (3 Month) > 2,000,000\n",
    "# Price (Intraday) > 3\n",
    "# Market Cap (Intraday) = Mid, Large, Mega\n",
    "# Exchange = NYSE + All NASDAQs\n",
    "\n",
    "### ETF SCREENER:\n",
    "# Region = United States\n",
    "# Avg Vol (3 Month) > 5,000,000\n",
    "# Price (EOD) > 2\n",
    "\n",
    "### PRE-RELEASE SCREENER:\n",
    "# Same as equity screener except Avg Vol (3 Month) > 1,000,000\n",
    "\n",
    "stock_screen = 'https://finance.yahoo.com/screener/unsaved/83240cfe-092c-4eb7-b7fb-d79ada2add16'\n",
    "etf_screen = 'https://finance.yahoo.com/screener/unsaved/819b55bd-dcb4-418b-9cd0-55c349d45f29'\n",
    "pre_release_screen = 'https://finance.yahoo.com/screener/unsaved/988a50e6-1e8d-4112-aa4e-0f7ec984ea4d'"
   ]
  },
  {
   "cell_type": "code",
   "execution_count": null,
   "metadata": {},
   "outputs": [],
   "source": [
    "\n",
    "\n",
    "#### update and plot relative value trade opps before market open (using previous day's IVs from csv)\n",
    "rv.update_and_plot_ratios(yahoo_screen_url=stock_screen,\n",
    "                          etf_screen_url=etf_screen,\n",
    "                          basepath='IV_Data_2023-04-05', plot_vrp=True, rows=1, use_df=True, \n",
    "                          corr_thresholds=(0.94,0.95,0.96,0.86,0.92,0.94))"
   ]
  },
  {
   "cell_type": "code",
   "execution_count": 5,
   "metadata": {},
   "outputs": [
    {
     "name": "stderr",
     "output_type": "stream",
     "text": [
      "100%|██████████| 314/314 [02:52<00:00,  1.82it/s]\n"
     ]
    }
   ],
   "source": [
    "#### plot ratios during market hours using current IV\n",
    "rv.plot_current_ratios(yahoo_screen_url=stock_screen, \n",
    "                       etf_screen_url=etf_screen,\n",
    "                       basepath='IV_Data_2023-04-05', plot_vrp=False, use_df=False, etf_limit=20, corr_thresholds=(0.88,0.90,0.92,0.86,0.92,0.94),\n",
    "                       strike_count=2, volume_lookback=1, dte_threshold=20, z_window=200)  "
   ]
  },
  {
   "cell_type": "code",
   "execution_count": null,
   "metadata": {},
   "outputs": [],
   "source": [
    "#### get ETF implied corrs and dispersion using historical data\n",
    "implied_corrs_30, implied_corrs_60, implied_corrs_90 = etf.get_ivs_and_implied_corrs(yahoo_screen=etf_screen,\n",
    "                                                                                     basepath='IV_Data_2023-04-05', n=500, use_hist_data=True, volume_threshold=100_000,\n",
    "                                                                                     share_threshold=0.2) "
   ]
  },
  {
   "cell_type": "code",
   "execution_count": 8,
   "metadata": {},
   "outputs": [
    {
     "name": "stderr",
     "output_type": "stream",
     "text": [
      "100%|██████████| 997/997 [01:35<00:00, 10.40it/s]\n"
     ]
    }
   ],
   "source": [
    "pre_releases = er.get_pre_releases(yahoo_screen_url = pre_release_screen, next_x_days=14)"
   ]
  },
  {
   "cell_type": "code",
   "execution_count": 7,
   "metadata": {},
   "outputs": [
    {
     "name": "stderr",
     "output_type": "stream",
     "text": [
      "/home/wiltonwking/IV Analysis/account_info.py:71: SettingWithCopyWarning:\n",
      "\n",
      "\n",
      "A value is trying to be set on a copy of a slice from a DataFrame.\n",
      "Try using .loc[row_indexer,col_indexer] = value instead\n",
      "\n",
      "See the caveats in the documentation: https://pandas.pydata.org/pandas-docs/stable/user_guide/indexing.html#returning-a-view-versus-a-copy\n",
      "\n",
      "/home/wiltonwking/IV Analysis/account_info.py:284: SettingWithCopyWarning:\n",
      "\n",
      "\n",
      "A value is trying to be set on a copy of a slice from a DataFrame.\n",
      "Try using .loc[row_indexer,col_indexer] = value instead\n",
      "\n",
      "See the caveats in the documentation: https://pandas.pydata.org/pandas-docs/stable/user_guide/indexing.html#returning-a-view-versus-a-copy\n",
      "\n",
      "/home/wiltonwking/IV Analysis/account_info.py:285: SettingWithCopyWarning:\n",
      "\n",
      "\n",
      "A value is trying to be set on a copy of a slice from a DataFrame.\n",
      "Try using .loc[row_indexer,col_indexer] = value instead\n",
      "\n",
      "See the caveats in the documentation: https://pandas.pydata.org/pandas-docs/stable/user_guide/indexing.html#returning-a-view-versus-a-copy\n",
      "\n"
     ]
    }
   ],
   "source": [
    "trades = ai.get_trades(start_date=datetime(2023,5,1), write_to_file=True)\n",
    "vixtrades = ai.get_trades_by_exp(start_date=datetime(2023,5,1), write_to_file=True, symbols = ['VXX', 'UVXY'])"
   ]
  }
 ],
 "metadata": {
  "kernelspec": {
   "display_name": "Python 3",
   "language": "python",
   "name": "python3"
  },
  "language_info": {
   "codemirror_mode": {
    "name": "ipython",
    "version": 3
   },
   "file_extension": ".py",
   "mimetype": "text/x-python",
   "name": "python",
   "nbconvert_exporter": "python",
   "pygments_lexer": "ipython3",
   "version": "3.11.3"
  },
  "orig_nbformat": 4
 },
 "nbformat": 4,
 "nbformat_minor": 2
}
