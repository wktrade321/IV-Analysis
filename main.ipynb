{
 "cells": [
  {
   "cell_type": "code",
   "execution_count": 1,
   "metadata": {},
   "outputs": [],
   "source": [
    "import relative_value as rv\n",
    "import etf_dispersion as etf\n",
    "import pandas as pd\n",
    "import earnings as er\n",
    "import account_info as ai \n",
    "from datetime import datetime"
   ]
  },
  {
   "cell_type": "code",
   "execution_count": 2,
   "metadata": {},
   "outputs": [
    {
     "name": "stdout",
     "output_type": "stream",
     "text": [
      "VIX Futures Curve Contango:\n"
     ]
    },
    {
     "data": {
      "text/plain": [
       "1-2    8.50%\n",
       "2-3    7.53%\n",
       "3-4    3.98%\n",
       "4-5    2.80%\n",
       "5-6    1.73%\n",
       "6-7    5.62%\n",
       "7-8    1.22%\n",
       "dtype: object"
      ]
     },
     "metadata": {},
     "output_type": "display_data"
    }
   ],
   "source": [
    "contango = rv.get_current_vix_contango()"
   ]
  },
  {
   "cell_type": "code",
   "execution_count": 3,
   "metadata": {},
   "outputs": [],
   "source": [
    "### EQUITY SCREENER: \n",
    "# Region = United States\n",
    "# Avg Vol (3 Month) > 2,000,000\n",
    "# Price (Intraday) > 3\n",
    "# Market Cap (Intraday) = Mid, Large, Mega\n",
    "# Exchange = NYSE + All NASDAQs\n",
    "\n",
    "### ETF SCREENER:\n",
    "# Exchange = All NASDAQs, NYSE, BSE, YHD\n",
    "# Avg Vol (3 Month) > 2,000,000\n",
    "# Price (EOD) > 2\n",
    "\n",
    "### PRE-RELEASE SCREENER:\n",
    "# Same as equity screener except Avg Vol (3 Month) > 1,000,000\n",
    "\n",
    "stock_screen = 'https://finance.yahoo.com/screener/unsaved/e02240ef-217f-49b3-b5b7-0c6a7dccb245'\n",
    "etf_screen = 'https://finance.yahoo.com/screener/unsaved/50c7e1b2-0f3b-43db-b837-6b42acb9a1d2'\n",
    "pre_release_screen = 'https://finance.yahoo.com/screener/unsaved/9a3e5b45-9103-4840-bac3-6a2ced5846d7'"
   ]
  },
  {
   "cell_type": "code",
   "execution_count": 4,
   "metadata": {},
   "outputs": [
    {
     "name": "stderr",
     "output_type": "stream",
     "text": [
      "100%|██████████| 8/8 [00:25<00:00,  3.16s/it]\n"
     ]
    },
    {
     "ename": "NameError",
     "evalue": "name 'capa' is not defined",
     "output_type": "error",
     "traceback": [
      "\u001b[0;31m---------------------------------------------------------------------------\u001b[0m",
      "\u001b[0;31mNameError\u001b[0m                                 Traceback (most recent call last)",
      "Cell \u001b[0;32mIn[4], line 2\u001b[0m\n\u001b[1;32m      1\u001b[0m \u001b[39m#### update and plot relative value trade opps before market open (using previous day's IVs from csv)\u001b[39;00m\n\u001b[0;32m----> 2\u001b[0m rv\u001b[39m.\u001b[39;49mupdate_and_plot_ratios(yahoo_screen_url\u001b[39m=\u001b[39;49mstock_screen,\n\u001b[1;32m      3\u001b[0m                           etf_screen_url\u001b[39m=\u001b[39;49metf_screen,\n\u001b[1;32m      4\u001b[0m                           basepath\u001b[39m=\u001b[39;49m\u001b[39m'\u001b[39;49m\u001b[39mIV_Data_2023-04-05\u001b[39;49m\u001b[39m'\u001b[39;49m, plot_vrp\u001b[39m=\u001b[39;49m\u001b[39mTrue\u001b[39;49;00m, rows\u001b[39m=\u001b[39;49m\u001b[39m1\u001b[39;49m, use_df\u001b[39m=\u001b[39;49m\u001b[39mTrue\u001b[39;49;00m, \n\u001b[1;32m      5\u001b[0m                           corr_thresholds\u001b[39m=\u001b[39;49m(\u001b[39m0.94\u001b[39;49m,\u001b[39m0.95\u001b[39;49m,\u001b[39m0.96\u001b[39;49m,\u001b[39m0.86\u001b[39;49m,\u001b[39m0.92\u001b[39;49m,\u001b[39m0.94\u001b[39;49m))\n",
      "File \u001b[0;32m~/IV Analysis/relative_value.py:794\u001b[0m, in \u001b[0;36mupdate_and_plot_ratios\u001b[0;34m(yahoo_screen_url, etf_screen_url, basepath, plot_vrp, earnings_days_forward, earnings_days_back, rows, start_date, end_date, corr_thresholds, stockpx_threshold, use_df, use_stockpx_corr, strike_count, volume_lookback, dte_threshold, z_window, plots_n, etf_limit, plot_titles)\u001b[0m\n\u001b[1;32m    785\u001b[0m \u001b[39mdef\u001b[39;00m \u001b[39mupdate_and_plot_ratios\u001b[39m(yahoo_screen_url: \u001b[39mstr\u001b[39m, etf_screen_url: \u001b[39mstr\u001b[39m, basepath: \u001b[39mstr\u001b[39m, plot_vrp: \u001b[39mbool\u001b[39m\u001b[39m=\u001b[39m\u001b[39mFalse\u001b[39;00m, earnings_days_forward: \u001b[39mint\u001b[39m\u001b[39m=\u001b[39m\u001b[39m7\u001b[39m, earnings_days_back: \u001b[39mint\u001b[39m\u001b[39m=\u001b[39m\u001b[39m7\u001b[39m, rows: \u001b[39mint\u001b[39m\u001b[39m=\u001b[39m\u001b[39mNone\u001b[39;00m, \n\u001b[1;32m    786\u001b[0m                             start_date\u001b[39m=\u001b[39mdatetime\u001b[39m.\u001b[39mtoday()\u001b[39m-\u001b[39mtimedelta(\u001b[39m1\u001b[39m), end_date\u001b[39m=\u001b[39mdatetime\u001b[39m.\u001b[39mtoday(), \n\u001b[1;32m    787\u001b[0m                             corr_thresholds: \u001b[39mtuple\u001b[39m\u001b[39m=\u001b[39m(\u001b[39m0.9\u001b[39m,\u001b[39m0.91\u001b[39m,\u001b[39m0.92\u001b[39m,\u001b[39m0.8\u001b[39m,\u001b[39m0.84\u001b[39m,\u001b[39m0.86\u001b[39m), stockpx_threshold\u001b[39m=\u001b[39m\u001b[39m2.0\u001b[39m,  use_df\u001b[39m=\u001b[39m\u001b[39mFalse\u001b[39;00m, use_stockpx_corr\u001b[39m=\u001b[39m\u001b[39mFalse\u001b[39;00m, \n\u001b[0;32m   (...)\u001b[0m\n\u001b[1;32m    790\u001b[0m     \u001b[39m#earnings file\u001b[39;00m\n\u001b[1;32m    791\u001b[0m     \u001b[39m#https://www.barchart.com/stocks/earnings-within-7-days?viewName=main&orderBy=nextEarningsDate&orderDir=asc\u001b[39;00m\n\u001b[1;32m    793\u001b[0m     \u001b[39mif\u001b[39;00m plot_vrp:\n\u001b[0;32m--> 794\u001b[0m         ivticks, vrpticks \u001b[39m=\u001b[39m get_available_tickers(yahoo_screen_url\u001b[39m=\u001b[39;49myahoo_screen_url, etf_screen_url\u001b[39m=\u001b[39;49metf_screen_url, earnings_days_forward\u001b[39m=\u001b[39;49mearnings_days_forward, \n\u001b[1;32m    795\u001b[0m                                                 earnings_days_back\u001b[39m=\u001b[39;49mearnings_days_back, etf_limit\u001b[39m=\u001b[39;49metf_limit)\n\u001b[1;32m    796\u001b[0m     \u001b[39melse\u001b[39;00m:\n\u001b[1;32m    797\u001b[0m         ivticks \u001b[39m=\u001b[39m get_available_tickers(yahoo_screen_url\u001b[39m=\u001b[39myahoo_screen_url, etf_screen_url\u001b[39m=\u001b[39metf_screen_url, earnings_days_forward\u001b[39m=\u001b[39mearnings_days_forward, \n\u001b[1;32m    798\u001b[0m                                               earnings_days_back\u001b[39m=\u001b[39m\u001b[39m0\u001b[39m, etf_limit\u001b[39m=\u001b[39metf_limit)[\u001b[39m0\u001b[39m]\n",
      "File \u001b[0;32m~/IV Analysis/relative_value.py:712\u001b[0m, in \u001b[0;36mget_available_tickers\u001b[0;34m(yahoo_screen_url, etf_screen_url, earnings_days_forward, earnings_days_back, etf_limit)\u001b[0m\n\u001b[1;32m    709\u001b[0m     earnings_next_x \u001b[39m=\u001b[39m []\n\u001b[1;32m    711\u001b[0m \u001b[39mif\u001b[39;00m earnings_days_back \u001b[39m>\u001b[39m \u001b[39m0\u001b[39m:\n\u001b[0;32m--> 712\u001b[0m     earnings_last_x \u001b[39m=\u001b[39m get_earnings_last_x_days(earnings_days_back)\u001b[39m.\u001b[39mindex\u001b[39m.\u001b[39mto_list()\n\u001b[1;32m    713\u001b[0m \u001b[39melse\u001b[39;00m:\n\u001b[1;32m    714\u001b[0m     earnings_last_x \u001b[39m=\u001b[39m []\n",
      "File \u001b[0;32m~/IV Analysis/relative_value.py:661\u001b[0m, in \u001b[0;36mget_earnings_last_x_days\u001b[0;34m(days)\u001b[0m\n\u001b[1;32m    660\u001b[0m \u001b[39mdef\u001b[39;00m \u001b[39mget_earnings_last_x_days\u001b[39m(days: \u001b[39mint\u001b[39m\u001b[39m=\u001b[39m\u001b[39m7\u001b[39m):\n\u001b[0;32m--> 661\u001b[0m     driver \u001b[39m=\u001b[39m webdriver\u001b[39m.\u001b[39mChrome(service\u001b[39m=\u001b[39mService(ChromeDriverManager()\u001b[39m.\u001b[39minstall()), options\u001b[39m=\u001b[39mchrome_options, desired_capabilities\u001b[39m=\u001b[39mcapa)\n\u001b[1;32m    662\u001b[0m     dayrange \u001b[39m=\u001b[39m pd\u001b[39m.\u001b[39mdate_range(datetime\u001b[39m.\u001b[39mtoday()\u001b[39m-\u001b[39mtimedelta(days), datetime\u001b[39m.\u001b[39mtoday())\n\u001b[1;32m    663\u001b[0m     start \u001b[39m=\u001b[39m datetime\u001b[39m.\u001b[39mstrftime(dayrange[\u001b[39m0\u001b[39m],\u001b[39m'\u001b[39m\u001b[39m%\u001b[39m\u001b[39mY-\u001b[39m\u001b[39m%\u001b[39m\u001b[39mm-\u001b[39m\u001b[39m%d\u001b[39;00m\u001b[39m'\u001b[39m)\n",
      "\u001b[0;31mNameError\u001b[0m: name 'capa' is not defined"
     ]
    }
   ],
   "source": [
    "\n",
    "\n",
    "#### update and plot relative value trade opps before market open (using previous day's IVs from csv)\n",
    "rv.update_and_plot_ratios(yahoo_screen_url=stock_screen,\n",
    "                          etf_screen_url=etf_screen,\n",
    "                          basepath='IV_Data_2023-04-05', plot_vrp=True, rows=1, use_df=True, \n",
    "                          corr_thresholds=(0.94,0.95,0.96,0.86,0.92,0.94))"
   ]
  },
  {
   "cell_type": "code",
   "execution_count": 8,
   "metadata": {},
   "outputs": [
    {
     "name": "stderr",
     "output_type": "stream",
     "text": [
      "100%|██████████| 292/292 [03:18<00:00,  1.47it/s]\n"
     ]
    }
   ],
   "source": [
    "#### plot ratios during market hours using current IV\n",
    "rv.plot_current_ratios(yahoo_screen_url=stock_screen, \n",
    "                       etf_screen_url=etf_screen,\n",
    "                       basepath='IV_Data_2023-04-05', plot_vrp=False, use_df=False, etf_limit=20, corr_thresholds=(0.88,0.90,0.92,0.86,0.92,0.94),\n",
    "                       strike_count=2, volume_lookback=1, dte_threshold=20, z_window=200)  "
   ]
  },
  {
   "cell_type": "code",
   "execution_count": null,
   "metadata": {},
   "outputs": [],
   "source": [
    "#### get ETF implied corrs and dispersion using historical data\n",
    "implied_corrs_30, implied_corrs_60, implied_corrs_90 = etf.get_ivs_and_implied_corrs(yahoo_screen=etf_screen,\n",
    "                                                                                     basepath='IV_Data_2023-04-05', n=500, use_hist_data=True, volume_threshold=100_000,\n",
    "                                                                                     share_threshold=0.2) "
   ]
  },
  {
   "cell_type": "code",
   "execution_count": 6,
   "metadata": {},
   "outputs": [
    {
     "name": "stderr",
     "output_type": "stream",
     "text": [
      "100%|██████████| 995/995 [00:09<00:00, 106.21it/s]"
     ]
    },
    {
     "name": "stdout",
     "output_type": "stream",
     "text": [
      "No Pre-Releases Found\n"
     ]
    },
    {
     "name": "stderr",
     "output_type": "stream",
     "text": [
      "\n"
     ]
    }
   ],
   "source": [
    "pre_releases = er.get_pre_releases(yahoo_screen_url = pre_release_screen, next_x_days=14)"
   ]
  },
  {
   "cell_type": "code",
   "execution_count": 9,
   "metadata": {},
   "outputs": [
    {
     "name": "stderr",
     "output_type": "stream",
     "text": [
      "/home/wiltonwking/IV Analysis/account_info.py:74: SettingWithCopyWarning:\n",
      "\n",
      "\n",
      "A value is trying to be set on a copy of a slice from a DataFrame.\n",
      "Try using .loc[row_indexer,col_indexer] = value instead\n",
      "\n",
      "See the caveats in the documentation: https://pandas.pydata.org/pandas-docs/stable/user_guide/indexing.html#returning-a-view-versus-a-copy\n",
      "\n",
      "/home/wiltonwking/IV Analysis/account_info.py:279: SettingWithCopyWarning:\n",
      "\n",
      "\n",
      "A value is trying to be set on a copy of a slice from a DataFrame.\n",
      "Try using .loc[row_indexer,col_indexer] = value instead\n",
      "\n",
      "See the caveats in the documentation: https://pandas.pydata.org/pandas-docs/stable/user_guide/indexing.html#returning-a-view-versus-a-copy\n",
      "\n",
      "/home/wiltonwking/IV Analysis/account_info.py:280: SettingWithCopyWarning:\n",
      "\n",
      "\n",
      "A value is trying to be set on a copy of a slice from a DataFrame.\n",
      "Try using .loc[row_indexer,col_indexer] = value instead\n",
      "\n",
      "See the caveats in the documentation: https://pandas.pydata.org/pandas-docs/stable/user_guide/indexing.html#returning-a-view-versus-a-copy\n",
      "\n"
     ]
    }
   ],
   "source": [
    "trades = ai.get_trades(start_date=datetime(2023,5,1), write_to_file=True)\n",
    "vixtrades = ai.get_trades_by_exp(start_date=datetime(2023,5,1), write_to_file=True, symbols = ['VXX', 'UVXY'])"
   ]
  }
 ],
 "metadata": {
  "kernelspec": {
   "display_name": "Python 3",
   "language": "python",
   "name": "python3"
  },
  "language_info": {
   "codemirror_mode": {
    "name": "ipython",
    "version": 3
   },
   "file_extension": ".py",
   "mimetype": "text/x-python",
   "name": "python",
   "nbconvert_exporter": "python",
   "pygments_lexer": "ipython3",
   "version": "3.11.3"
  },
  "orig_nbformat": 4
 },
 "nbformat": 4,
 "nbformat_minor": 2
}
