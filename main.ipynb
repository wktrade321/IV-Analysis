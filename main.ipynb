{
 "cells": [
  {
   "cell_type": "code",
   "execution_count": 1,
   "metadata": {},
   "outputs": [],
   "source": [
    "import relative_value as rv\n",
    "import etf_dispersion as etf\n",
    "import pandas as pd\n",
    "import earnings as er\n",
    "import account_info as ai \n",
    "from datetime import datetime"
   ]
  },
  {
   "cell_type": "code",
   "execution_count": null,
   "metadata": {},
   "outputs": [],
   "source": [
    "### EQUITY SCREENER: \n",
    "# Region = United States\n",
    "# Market Cap (Intraday) = Mid, Large, Mega\n",
    "# Avg Vol (3 Month) > 3,000,000\n",
    "# Price (EOD) > 3\n",
    "# Market Cap (Last Close) > 2,000,000,000\n",
    "# Exchange = NYSE + All NASDAQs\n",
    "\n",
    "### ETF SCREENER:\n",
    "# Exchange = All NASDAQs, NYSE, BSE, YHD\n",
    "# Avg Vol (3 Month) > 3,000,000\n",
    "# Price (EOD) > 2\n",
    "\n",
    "### PRE-RELEASE SCREENER:\n",
    "# Same as equity screener except Avg Vol (3 Month) > 1,000,000\n",
    "\n",
    "stock_screen = 'https://finance.yahoo.com/screener/unsaved/db5fe322-9946-4bd6-8220-b4e56c477b4d'\n",
    "etf_screen = 'https://finance.yahoo.com/screener/unsaved/c66a651a-b239-4500-b434-f0ed93a8d69e'\n",
    "pre_release_screen = 'https://finance.yahoo.com/screener/unsaved/fe04441e-c36a-4663-b944-d23bfac3a20f'"
   ]
  },
  {
   "cell_type": "code",
   "execution_count": null,
   "metadata": {},
   "outputs": [],
   "source": [
    "\n",
    "\n",
    "#### update and plot relative value trade opps before market open (using previous day's IVs from csv)\n",
    "rv.update_and_plot_ratios(yahoo_screen_url=stock_screen,\n",
    "                          etf_screen_url=etf_screen,\n",
    "                          basepath='IV_Data_2023-04-05', plot_vrp=True, rows=1, use_df=True, corr_thresholds=(0.94,0.95,0.96,0.86,0.92,0.94))"
   ]
  },
  {
   "cell_type": "code",
   "execution_count": null,
   "metadata": {},
   "outputs": [],
   "source": [
    "#### plot ratios during market hours using current IV\n",
    "rv.plot_current_ratios(yahoo_screen_url=stock_screen, \n",
    "                       etf_screen_url=etf_screen,\n",
    "                       basepath='IV_Data_2023-04-05', plot_vrp=False, use_df=False, etf_limit=20, corr_thresholds=(0.91,0.92,0.93,0.86,0.92,0.94),\n",
    "                       strike_count=2, z_window=150) "
   ]
  },
  {
   "cell_type": "code",
   "execution_count": null,
   "metadata": {},
   "outputs": [],
   "source": [
    "#### get ETF implied corrs and dispersion using historical data\n",
    "implied_corrs_30, implied_corrs_60, implied_corrs_90 = etf.get_ivs_and_implied_corrs(yahoo_screen=etf_screen,\n",
    "                                                                                     basepath='IV_Data_2023-04-05', n=500, use_hist_data=True, volume_threshold=100_000,\n",
    "                                                                                     share_threshold=0.2) "
   ]
  },
  {
   "cell_type": "code",
   "execution_count": null,
   "metadata": {},
   "outputs": [],
   "source": [
    "pre_releases = er.get_pre_releases(yahoo_screen_url = pre_release_screen, next_x_days=14)"
   ]
  },
  {
   "cell_type": "code",
   "execution_count": 2,
   "metadata": {},
   "outputs": [
    {
     "name": "stderr",
     "output_type": "stream",
     "text": [
      "/home/wiltonwking/IV Analysis/account_info.py:74: SettingWithCopyWarning:\n",
      "\n",
      "\n",
      "A value is trying to be set on a copy of a slice from a DataFrame.\n",
      "Try using .loc[row_indexer,col_indexer] = value instead\n",
      "\n",
      "See the caveats in the documentation: https://pandas.pydata.org/pandas-docs/stable/user_guide/indexing.html#returning-a-view-versus-a-copy\n",
      "\n",
      "/home/wiltonwking/IV Analysis/account_info.py:285: SettingWithCopyWarning:\n",
      "\n",
      "\n",
      "A value is trying to be set on a copy of a slice from a DataFrame.\n",
      "Try using .loc[row_indexer,col_indexer] = value instead\n",
      "\n",
      "See the caveats in the documentation: https://pandas.pydata.org/pandas-docs/stable/user_guide/indexing.html#returning-a-view-versus-a-copy\n",
      "\n",
      "/home/wiltonwking/IV Analysis/account_info.py:286: SettingWithCopyWarning:\n",
      "\n",
      "\n",
      "A value is trying to be set on a copy of a slice from a DataFrame.\n",
      "Try using .loc[row_indexer,col_indexer] = value instead\n",
      "\n",
      "See the caveats in the documentation: https://pandas.pydata.org/pandas-docs/stable/user_guide/indexing.html#returning-a-view-versus-a-copy\n",
      "\n"
     ]
    }
   ],
   "source": [
    "trades = ai.get_trades(start_date=datetime(2023,5,1), write_to_file=True)\n",
    "vixtrades = ai.get_trades_by_exp(start_date=datetime(2023,5,1), write_to_file=True, symbols = ['VXX', 'UVXY'])"
   ]
  }
 ],
 "metadata": {
  "kernelspec": {
   "display_name": "Python 3",
   "language": "python",
   "name": "python3"
  },
  "language_info": {
   "codemirror_mode": {
    "name": "ipython",
    "version": 3
   },
   "file_extension": ".py",
   "mimetype": "text/x-python",
   "name": "python",
   "nbconvert_exporter": "python",
   "pygments_lexer": "ipython3",
   "version": "3.9.2"
  },
  "orig_nbformat": 4
 },
 "nbformat": 4,
 "nbformat_minor": 2
}
