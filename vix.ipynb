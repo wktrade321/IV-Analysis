{
 "cells": [
  {
   "cell_type": "code",
   "execution_count": 1,
   "metadata": {},
   "outputs": [
    {
     "name": "stderr",
     "output_type": "stream",
     "text": [
      "2023-12-01 00:40:18.239567: I tensorflow/core/util/port.cc:110] oneDNN custom operations are on. You may see slightly different numerical results due to floating-point round-off errors from different computation orders. To turn them off, set the environment variable `TF_ENABLE_ONEDNN_OPTS=0`.\n",
      "2023-12-01 00:40:18.356768: I tensorflow/tsl/cuda/cudart_stub.cc:28] Could not find cuda drivers on your machine, GPU will not be used.\n",
      "2023-12-01 00:40:18.931389: I tensorflow/tsl/cuda/cudart_stub.cc:28] Could not find cuda drivers on your machine, GPU will not be used.\n",
      "2023-12-01 00:40:18.932690: I tensorflow/core/platform/cpu_feature_guard.cc:182] This TensorFlow binary is optimized to use available CPU instructions in performance-critical operations.\n",
      "To enable the following instructions: AVX2 AVX512F AVX512_VNNI FMA, in other operations, rebuild TensorFlow with the appropriate compiler flags.\n",
      "2023-12-01 00:40:20.807197: W tensorflow/compiler/tf2tensorrt/utils/py_utils.cc:38] TF-TRT Warning: Could not find TensorRT\n"
     ]
    }
   ],
   "source": [
    "import numpy as np\n",
    "import pandas as pd\n",
    "from pandas.tseries.offsets import BDay\n",
    "from datetime import date, datetime, timedelta\n",
    "from datetime import time as dttime\n",
    "import time\n",
    "import yfinance as yf\n",
    "from pyetfdb_scraper import etf\n",
    "from IPython.display import clear_output\n",
    "import requests\n",
    "from bs4 import BeautifulSoup\n",
    "import zipfile\n",
    "from io import BytesIO\n",
    "\n",
    "from keras.models import Sequential\n",
    "from keras.layers import LSTM, Dense\n",
    "\n",
    "import relative_value as rv\n",
    "\n",
    "from plotly.offline import iplot\n",
    "import plotly.graph_objects as go\n",
    "from plotly.subplots import make_subplots\n",
    "import plotly.express as px\n",
    "\n",
    "import vix_utils as vix\n",
    "\n",
    "import asyncio \n",
    "import nest_asyncio\n",
    "nest_asyncio.apply()\n",
    "\n",
    "from selenium import webdriver\n",
    "from webdriver_manager.chrome import ChromeDriverManager\n",
    "from selenium.webdriver.chrome.service import Service\n",
    "from selenium.webdriver.chrome.options import Options\n",
    "from selenium.webdriver.common.by import By\n",
    "import selenium.common.exceptions\n",
    "\n",
    "from tqdm import tqdm\n",
    "\n",
    "chrome_options = Options()\n",
    "chrome_options.add_argument('--no-sandbox')\n",
    "chrome_options.add_argument('--headless')\n",
    "chrome_options.add_argument('--disable-dev-shm-usage')\n",
    "chrome_options.add_argument('--start-maximized')\n",
    "chrome_options.page_load_strategy = 'eager'\n",
    "\n",
    "\n",
    "from statsmodels.graphics.tsaplots import plot_acf\n",
    "\n",
    "\n",
    "from sklearn.linear_model import LinearRegression\n",
    "from sklearn.model_selection import train_test_split\n",
    "from sklearn.metrics import mean_squared_error\n",
    "\n",
    "from sklearn import metrics\n",
    "from sklearn.linear_model import GammaRegressor\n",
    "from sklearn.linear_model import TweedieRegressor\n",
    "from sklearn.ensemble import RandomForestRegressor\n",
    "from sklearn.ensemble import RandomForestClassifier"
   ]
  },
  {
   "cell_type": "code",
   "execution_count": 2,
   "metadata": {},
   "outputs": [
    {
     "name": "stdout",
     "output_type": "stream",
     "text": [
      "2.13.0\n"
     ]
    }
   ],
   "source": [
    "import tensorflow as tf\n",
    "print(tf.__version__) # check the version (should be 2.x+)\n",
    "\n",
    "import matplotlib.pyplot as plt\n",
    "import numpy as np\n",
    "import pandas as pd\n",
    "import seaborn as sns"
   ]
  },
  {
   "cell_type": "code",
   "execution_count": null,
   "metadata": {},
   "outputs": [],
   "source": [
    "\n",
    "df = yf.Ticker('UVXY').history(start=datetime(2020,1,1), end=datetime.today(), interval='1d')\n",
    "\n",
    "df = df.drop(['High', 'Low','Dividends','Stock Splits','Capital Gains','Volume'],axis=1)\n",
    "df['return_close_close'] = df['Close'].pct_change()\n",
    "df['return_overnight'] = (df['Open'] - df['Close'].shift(1))/df['Close'].shift(1)\n",
    "df['return_open_close'] = (df['Close'] - df['Open'])/df['Open']\n",
    "\n",
    "df.index = df.index.tz_localize(None)"
   ]
  },
  {
   "cell_type": "code",
   "execution_count": null,
   "metadata": {},
   "outputs": [],
   "source": [
    "yf.Ticker('^VOLI').history(start=datetime(2020,1,1), end=datetime.today(), interval='1d')"
   ]
  },
  {
   "cell_type": "code",
   "execution_count": null,
   "metadata": {},
   "outputs": [],
   "source": [
    "px.violin(df[['return_close_close', 'return_overnight', 'return_open_close']])"
   ]
  },
  {
   "cell_type": "code",
   "execution_count": null,
   "metadata": {},
   "outputs": [],
   "source": [
    "#vix_contango = rv.get_historical_vix_contango(datetime(2022,1,1), datetime.today())\n",
    "vix_contango = pd.read_csv('VIX_Contango/vix_contango_2020-1-1_2023-6-30', index_col=0)"
   ]
  },
  {
   "cell_type": "code",
   "execution_count": null,
   "metadata": {},
   "outputs": [],
   "source": [
    "vix_contango.index = pd.to_datetime(vix_contango.index).tz_localize(None)"
   ]
  },
  {
   "cell_type": "code",
   "execution_count": null,
   "metadata": {},
   "outputs": [],
   "source": [
    "vix_hist = yf.Ticker('^VIX').history(period='max')"
   ]
  },
  {
   "cell_type": "code",
   "execution_count": null,
   "metadata": {},
   "outputs": [],
   "source": [
    "vix_hist.index = vix_hist.index.tz_localize(None)"
   ]
  },
  {
   "cell_type": "code",
   "execution_count": null,
   "metadata": {},
   "outputs": [],
   "source": [
    "df = df.join(vix_contango).join(vix_hist['Close'].rename('VIX_Spot'))"
   ]
  },
  {
   "cell_type": "code",
   "execution_count": null,
   "metadata": {},
   "outputs": [],
   "source": [
    "df = df.rename(columns = {'7':'1-2_raw','8':'2-3_raw','9':'3-4_raw','10':'4-5_raw','11':'5-6_raw','12':'6-7_raw','13':'7-8_raw'})"
   ]
  },
  {
   "cell_type": "code",
   "execution_count": null,
   "metadata": {},
   "outputs": [],
   "source": [
    "df = df.replace('%','',regex=True)"
   ]
  },
  {
   "cell_type": "code",
   "execution_count": null,
   "metadata": {},
   "outputs": [],
   "source": [
    "df = df.apply(pd.to_numeric)"
   ]
  },
  {
   "cell_type": "code",
   "execution_count": null,
   "metadata": {},
   "outputs": [],
   "source": [
    "px.line(df, x=df.index, y='return_overnight')"
   ]
  },
  {
   "cell_type": "code",
   "execution_count": null,
   "metadata": {},
   "outputs": [],
   "source": [
    "px.line(df, x=df.index, y='1-2')"
   ]
  },
  {
   "cell_type": "code",
   "execution_count": null,
   "metadata": {},
   "outputs": [],
   "source": [
    "df['day_of_month'] = df.index.day"
   ]
  },
  {
   "cell_type": "code",
   "execution_count": null,
   "metadata": {},
   "outputs": [],
   "source": [
    "df[['1-2_prev','2-3_prev','3-4_prev','4-5_prev','5-6_prev','6-7_prev','7-8_prev','VIX_Spot_prev']] = \\\n",
    "    df[['1-2','2-3','3-4','4-5','5-6','6-7','7-8','VIX_Spot']].shift(1)"
   ]
  },
  {
   "cell_type": "code",
   "execution_count": null,
   "metadata": {},
   "outputs": [],
   "source": [
    "df[['1-2_raw_prev','2-3_raw_prev','3-4_raw_prev','4-5_raw_prev','5-6_raw_prev','6-7_raw_prev','7-8_raw_prev']] = \\\n",
    "    df[['1-2_raw','2-3_raw','3-4_raw','4-5_raw','5-6_raw','6-7_raw','7-8_raw']].shift(1)"
   ]
  },
  {
   "cell_type": "code",
   "execution_count": null,
   "metadata": {},
   "outputs": [],
   "source": [
    "px.scatter(df,x='VIX_Spot_prev',y='return_overnight')"
   ]
  },
  {
   "cell_type": "code",
   "execution_count": null,
   "metadata": {},
   "outputs": [],
   "source": [
    "econ_df = pd.read_csv('calendar-event-list (1).csv', index_col=1)"
   ]
  },
  {
   "cell_type": "code",
   "execution_count": null,
   "metadata": {},
   "outputs": [],
   "source": [
    "econ_df.index = pd.to_datetime(econ_df.index).date"
   ]
  },
  {
   "cell_type": "code",
   "execution_count": null,
   "metadata": {},
   "outputs": [],
   "source": [
    "econ_df = econ_df[econ_df['Impact'].isin(['HIGH'])]"
   ]
  },
  {
   "cell_type": "code",
   "execution_count": null,
   "metadata": {},
   "outputs": [],
   "source": [
    "df = df.join(econ_df, how='left')"
   ]
  },
  {
   "cell_type": "code",
   "execution_count": null,
   "metadata": {},
   "outputs": [],
   "source": [
    "df['macro_event'] = np.where(df['Impact']=='HIGH', 1, 0)"
   ]
  },
  {
   "cell_type": "code",
   "execution_count": null,
   "metadata": {},
   "outputs": [],
   "source": [
    "df = df.drop(['Id','Name','Impact','Currency'], axis=1).drop_duplicates()"
   ]
  },
  {
   "cell_type": "code",
   "execution_count": null,
   "metadata": {},
   "outputs": [],
   "source": [
    "df['macro_event_next_day'] = df['macro_event'].shift(-1)"
   ]
  },
  {
   "cell_type": "code",
   "execution_count": null,
   "metadata": {},
   "outputs": [],
   "source": [
    "df = df.fillna(axis=0, method='ffill').dropna(axis=0)"
   ]
  },
  {
   "cell_type": "code",
   "execution_count": null,
   "metadata": {},
   "outputs": [],
   "source": [
    "df['return_overnight_gt_5'] = np.where(df['return_overnight'] >= 0.05, 1, 0)"
   ]
  },
  {
   "cell_type": "code",
   "execution_count": null,
   "metadata": {},
   "outputs": [],
   "source": [
    "X = df.drop(['Open','Close','return_close_close', 'return_overnight', 'return_open_close', 'return_overnight_gt_5', '1-2','2-3','3-4','4-5','5-6','6-7','7-8',\\\n",
    "'1-2_raw','2-3_raw','3-4_raw','4-5_raw','5-6_raw','6-7_raw','7-8_raw','VIX_Spot'], axis=1).values\n",
    "y = df['return_overnight_gt_5'].values"
   ]
  },
  {
   "cell_type": "code",
   "execution_count": null,
   "metadata": {},
   "outputs": [],
   "source": [
    "X_train, X_test, y_train, y_test = train_test_split(X,y,test_size=0.2,random_state=90)"
   ]
  },
  {
   "cell_type": "code",
   "execution_count": null,
   "metadata": {},
   "outputs": [],
   "source": [
    "model = RandomForestClassifier()\n",
    "model.fit(X_train, y_train)"
   ]
  },
  {
   "cell_type": "code",
   "execution_count": null,
   "metadata": {},
   "outputs": [],
   "source": [
    "y_pred = model.predict(X_test)"
   ]
  },
  {
   "cell_type": "code",
   "execution_count": null,
   "metadata": {},
   "outputs": [],
   "source": [
    "pd.Series(model.feature_importances_*100, index = df.drop(['Open','Close','return_close_close', 'return_overnight', 'return_open_close', 'return_overnight_gt_5', '1-2','2-3','3-4','4-5','5-6','6-7','7-8',\\\n",
    "'1-2_raw','2-3_raw','3-4_raw','4-5_raw','5-6_raw','6-7_raw','7-8_raw','VIX_Spot'], axis=1).columns)"
   ]
  },
  {
   "cell_type": "code",
   "execution_count": null,
   "metadata": {},
   "outputs": [],
   "source": [
    "np.corrcoef(y_pred,y_test)"
   ]
  },
  {
   "cell_type": "code",
   "execution_count": null,
   "metadata": {},
   "outputs": [],
   "source": [
    "predictions = pd.DataFrame([y_pred, y_test], index=['y_pred','y_test']).T"
   ]
  },
  {
   "cell_type": "code",
   "execution_count": null,
   "metadata": {},
   "outputs": [],
   "source": [
    "px.scatter(df,df.index,'return_close_close', color='macro_event')"
   ]
  },
  {
   "cell_type": "code",
   "execution_count": null,
   "metadata": {},
   "outputs": [],
   "source": [
    "px.scatter(predictions,'y_pred','y_test')"
   ]
  },
  {
   "cell_type": "code",
   "execution_count": null,
   "metadata": {},
   "outputs": [],
   "source": [
    "metrics.r2_score(y_test,y_pred)"
   ]
  },
  {
   "cell_type": "code",
   "execution_count": null,
   "metadata": {},
   "outputs": [],
   "source": [
    "predictions[predictions['y_pred']==1]"
   ]
  },
  {
   "cell_type": "code",
   "execution_count": null,
   "metadata": {},
   "outputs": [],
   "source": [
    "df = pd.read_csv('uvxy_spy_vixfutures.csv')"
   ]
  },
  {
   "cell_type": "code",
   "execution_count": null,
   "metadata": {},
   "outputs": [],
   "source": [
    "df['10DTE PnL'] = pd.to_numeric(df['10DTE PnL'].str.replace('$','').str.replace(',',''))\n",
    "df['UVXY IV Rank'] = pd.to_numeric(df['UVXY IV Rank'].str.replace('%',''))\n",
    "df['SPY Rolling 5D Ret'] = pd.to_numeric(df['SPY Rolling 5D Ret'].str.replace('%',''))"
   ]
  },
  {
   "cell_type": "code",
   "execution_count": null,
   "metadata": {},
   "outputs": [],
   "source": [
    "df.set_index('Expiration Date', inplace=True)"
   ]
  },
  {
   "cell_type": "code",
   "execution_count": null,
   "metadata": {},
   "outputs": [],
   "source": [
    "df_train = df.sample(frac=0.8, random_state=0)\n",
    "df_test = df.drop(df_train.index)\n",
    "\n",
    "df_train.describe().transpose()\n"
   ]
  },
  {
   "cell_type": "code",
   "execution_count": null,
   "metadata": {},
   "outputs": [],
   "source": [
    "features_train = df_train.copy()\n",
    "features_test = df_test.copy()\n",
    "\n",
    "labels_train = features_train.pop('10DTE PnL')\n",
    "labels_test = features_test.pop('10DTE PnL')\n",
    "\n",
    "normalizer = tf.keras.layers.Normalization(axis=-1)\n",
    "normalizer.adapt(np.array(features_train))\n",
    "first = np.array(features_train[:1])\n",
    "\n",
    "with np.printoptions(precision=2, suppress=True):\n",
    "  print('First example:', first)\n",
    "  print()\n",
    "  print('Normalized:', normalizer(first).numpy())"
   ]
  },
  {
   "cell_type": "code",
   "execution_count": null,
   "metadata": {},
   "outputs": [],
   "source": [
    "model = tf.keras.Sequential([\n",
    "      normalizer,\n",
    "      tf.keras.layers.Dense(256, activation='relu'),\n",
    "      tf.keras.layers.Dense(256, activation='relu'),\n",
    "      tf.keras.layers.Dense(1)\n",
    "  ])\n",
    "model.compile(loss='mean_absolute_error',\n",
    "                optimizer='Adam')"
   ]
  },
  {
   "cell_type": "code",
   "execution_count": null,
   "metadata": {},
   "outputs": [],
   "source": [
    "history = model.fit(\n",
    "    features_train,\n",
    "    labels_train,\n",
    "    validation_split=0.2,\n",
    "    verbose=0, epochs=250)"
   ]
  },
  {
   "cell_type": "code",
   "execution_count": null,
   "metadata": {},
   "outputs": [],
   "source": [
    "test_results = model.evaluate(features_test, labels_test, verbose=1)"
   ]
  },
  {
   "cell_type": "code",
   "execution_count": null,
   "metadata": {},
   "outputs": [],
   "source": [
    "test_predictions = model.predict(features_test).flatten()\n",
    "train_predictions = model.predict(features_train).flatten()\n",
    "\n",
    "a = plt.axes()\n",
    "plt.scatter(labels_test, test_predictions)\n",
    "plt.xlabel('True Values [PnL]')\n",
    "plt.ylabel('Predictions [PnL]')\n",
    "plt.show()"
   ]
  },
  {
   "cell_type": "code",
   "execution_count": null,
   "metadata": {},
   "outputs": [],
   "source": [
    "a = plt.axes()\n",
    "plt.scatter(labels_train, train_predictions)\n",
    "plt.xlabel('True Values [PnL]')\n",
    "plt.ylabel('Predictions [PnL]')\n",
    "plt.show()"
   ]
  },
  {
   "cell_type": "code",
   "execution_count": null,
   "metadata": {},
   "outputs": [],
   "source": [
    "plt.plot(history.history['loss'], label='loss')\n",
    "plt.plot(history.history['val_loss'], label='val_loss')\n",
    "plt.xlabel('Epoch')\n",
    "plt.ylabel('Error [PnL]')\n",
    "plt.legend()\n",
    "plt.grid(True)"
   ]
  },
  {
   "cell_type": "code",
   "execution_count": null,
   "metadata": {},
   "outputs": [],
   "source": [
    "import nasdaqdatalink as ndl\n",
    "import os\n",
    "ndl.ApiConfig.api_key = os.environ['ndl_api_key']"
   ]
  },
  {
   "cell_type": "code",
   "execution_count": 3,
   "metadata": {},
   "outputs": [],
   "source": [
    "iv30_df = pd.read_csv('IV_Data_2023-04-05/iv_30.csv').set_index('date')\n",
    "iv60_df = pd.read_csv('IV_Data_2023-04-05/iv_60.csv').set_index('date')\n",
    "iv90_df = pd.read_csv('IV_Data_2023-04-05/iv_90.csv').set_index('date')"
   ]
  },
  {
   "cell_type": "code",
   "execution_count": 4,
   "metadata": {},
   "outputs": [],
   "source": [
    "iv_df = iv30_df.join(iv60_df, rsuffix='_60')"
   ]
  },
  {
   "cell_type": "code",
   "execution_count": 5,
   "metadata": {},
   "outputs": [],
   "source": [
    "iv_df = iv_df.join(iv90_df, rsuffix='_90')"
   ]
  },
  {
   "cell_type": "code",
   "execution_count": 6,
   "metadata": {},
   "outputs": [],
   "source": [
    "uvxy = yf.Ticker('UVXY').history(start=datetime(2022,1,1), end=datetime.today(), interval='1d')['Close'].pct_change().shift(-1).rename('UVXY')"
   ]
  },
  {
   "cell_type": "code",
   "execution_count": 7,
   "metadata": {},
   "outputs": [],
   "source": [
    "return_df = pd.read_csv('IV_Data_2023-04-05/stockpx.csv').set_index('date')"
   ]
  },
  {
   "cell_type": "code",
   "execution_count": 8,
   "metadata": {},
   "outputs": [],
   "source": [
    "return_df = return_df.pct_change()"
   ]
  },
  {
   "cell_type": "code",
   "execution_count": 9,
   "metadata": {},
   "outputs": [],
   "source": [
    "uvxy.index = pd.to_datetime(uvxy.index.date)"
   ]
  },
  {
   "cell_type": "code",
   "execution_count": 10,
   "metadata": {},
   "outputs": [],
   "source": [
    "df = iv_df.join(return_df, lsuffix = '_30', rsuffix='_return')\n",
    "df.index = pd.to_datetime(df.index, format='%Y-%m-%d')\n",
    "df = df.join(uvxy)"
   ]
  },
  {
   "cell_type": "code",
   "execution_count": 11,
   "metadata": {},
   "outputs": [],
   "source": [
    "df = df.rename(columns={'UVXY': 'UVXY_nextdayreturn'})"
   ]
  },
  {
   "cell_type": "code",
   "execution_count": null,
   "metadata": {},
   "outputs": [],
   "source": [
    "df.to_csv('lstm_df.csv')"
   ]
  },
  {
   "cell_type": "code",
   "execution_count": null,
   "metadata": {},
   "outputs": [],
   "source": [
    "df = df.fillna(method='ffill').fillna(method='bfill')\n",
    "\n",
    "df_train = df.iloc[:int(len(df)*.8),:]\n",
    "df_test = df.drop(df_train.index)"
   ]
  },
  {
   "cell_type": "code",
   "execution_count": null,
   "metadata": {},
   "outputs": [],
   "source": [
    "features_train = df_train.copy().fillna(method='ffill').fillna(method='bfill')\n",
    "features_test = df_test.copy().fillna(method='ffill').fillna(method='bfill')\n",
    "\n",
    "labels_train = features_train.pop('UVXY_nextdayreturn')\n",
    "labels_test = features_test.pop('UVXY_nextdayreturn')\n",
    "\n",
    "features_train = np.array(features_train)\n",
    "labels_train = np.array(labels_train)\n",
    "\n",
    "\n",
    "features_test = np.array(features_test)\n",
    "labels_test = np.array(labels_test)"
   ]
  },
  {
   "cell_type": "code",
   "execution_count": 12,
   "metadata": {},
   "outputs": [],
   "source": [
    "def create_dataset(X, y, time_steps=1):\n",
    "    Xs, ys = [], []\n",
    "    for i in range(len(X) - time_steps):\n",
    "        v = X[i:(i + time_steps)]\n",
    "        Xs.append(v)\n",
    "        ys.append(y[i + time_steps])\n",
    "    return np.array(Xs), np.array(ys)\n"
   ]
  },
  {
   "cell_type": "code",
   "execution_count": null,
   "metadata": {},
   "outputs": [],
   "source": [
    "\n",
    "# Example usage\n",
    "time_steps = 5  # Number of time steps (days) you want to consider\n",
    "features_train_reshaped, labels_train_reshaped = create_dataset(features_train, labels_train, time_steps)\n",
    "features_test_reshaped, labels_test_reshaped = create_dataset(features_test, labels_test, time_steps)\n"
   ]
  },
  {
   "cell_type": "code",
   "execution_count": null,
   "metadata": {},
   "outputs": [],
   "source": [
    "model = tf.keras.Sequential([\n",
    "    tf.keras.layers.LSTM(32, input_shape=(5, 4576), return_sequences=True), \n",
    "    tf.keras.layers.LSTM(64, return_sequences=True), \n",
    "    tf.keras.layers.LSTM(128, return_sequences=True), \n",
    "    tf.keras.layers.LSTM(256, return_sequences=False), \n",
    "    tf.keras.layers.BatchNormalization(axis=-1),\n",
    "    tf.keras.layers.Dense(1),\n",
    "])\n",
    "model.compile(loss='mean_absolute_error',\n",
    "              optimizer=tf.keras.optimizers.SGD(learning_rate=0.001))"
   ]
  },
  {
   "cell_type": "code",
   "execution_count": null,
   "metadata": {},
   "outputs": [],
   "source": [
    "history = model.fit(\n",
    "    features_train_reshaped,\n",
    "    labels_train_reshaped,\n",
    "    verbose=1, epochs=500, batch_size = 32, validation_split=0.2)"
   ]
  },
  {
   "cell_type": "code",
   "execution_count": null,
   "metadata": {},
   "outputs": [],
   "source": [
    "test_results = model.evaluate(features_test_reshaped, labels_test_reshaped, verbose=1)"
   ]
  },
  {
   "cell_type": "code",
   "execution_count": null,
   "metadata": {},
   "outputs": [],
   "source": [
    "test_predictions = model.predict(features_test_reshaped)\n",
    "train_predictions = model.predict(features_train_reshaped)\n",
    "\n",
    "a = plt.axes()\n",
    "plt.scatter(labels_test_reshaped, test_predictions)\n",
    "plt.xlabel('True Values')\n",
    "plt.ylabel('Predictions')\n",
    "plt.show()"
   ]
  },
  {
   "cell_type": "code",
   "execution_count": null,
   "metadata": {},
   "outputs": [],
   "source": [
    "a = plt.axes()\n",
    "plt.scatter(labels_train_reshaped, train_predictions)\n",
    "plt.xlabel('True Values [PnL]')\n",
    "plt.ylabel('Predictions [PnL]')\n",
    "plt.show()"
   ]
  },
  {
   "cell_type": "code",
   "execution_count": null,
   "metadata": {},
   "outputs": [],
   "source": [
    "plt.plot(history.history['loss'], label='loss')\n",
    "plt.plot(history.history['val_loss'], label='val_loss')\n",
    "plt.xlabel('Epoch')\n",
    "plt.ylabel('Error [PnL]')\n",
    "plt.legend()\n",
    "plt.grid(True)"
   ]
  },
  {
   "cell_type": "code",
   "execution_count": 13,
   "metadata": {},
   "outputs": [],
   "source": [
    "def preprocess_data(df, ticker, time_steps=5, train_split=0.8):\n",
    "    df_sub = df[[col for col in df.columns if col.startswith(f'{ticker}_')]]\n",
    "    df_sub['nextdayiv90'] = df_sub[f'{ticker}_90'].shift(-1)\n",
    "    df_sub = df_sub.fillna(method='ffill').fillna(method='bfill')\n",
    "\n",
    "    features_train = df_sub.iloc[:int(len(df_sub)*train_split),:]\n",
    "    features_test = df_sub.drop(features_train.index)\n",
    "    labels_train = features_train.pop('nextdayiv90')\n",
    "    labels_test = features_test.pop('nextdayiv90')\n",
    "\n",
    "    features_train = np.array(features_train)\n",
    "    labels_train = np.array(labels_train)\n",
    "    features_test = np.array(features_test)\n",
    "    labels_test = np.array(labels_test)\n",
    "\n",
    "    features_train_reshaped, labels_train_reshaped = create_dataset(features_train, labels_train, time_steps)\n",
    "    features_test_reshaped, labels_test_reshaped = create_dataset(features_test, labels_test, time_steps)\n",
    "\n",
    "    return features_train_reshaped, labels_train_reshaped, features_test_reshaped, labels_test_reshaped"
   ]
  },
  {
   "cell_type": "code",
   "execution_count": 23,
   "metadata": {},
   "outputs": [],
   "source": [
    "def build_and_fit_model(features_train, labels_train, loss_function, learning_rate=0.001, epochs=500, batch_size=32, time_steps=5):\n",
    "    model = tf.keras.Sequential([\n",
    "        tf.keras.layers.LSTM(32, input_shape=(time_steps, 4), return_sequences=True), \n",
    "        tf.keras.layers.LSTM(64, return_sequences=False), \n",
    "        tf.keras.layers.Dense(1),\n",
    "    ])\n",
    "    model.compile(loss=loss_function,\n",
    "                optimizer=tf.keras.optimizers.SGD(learning_rate=learning_rate))\n",
    "    \n",
    "    history = model.fit(\n",
    "        features_train,\n",
    "        labels_train,\n",
    "        verbose=1, epochs=epochs, batch_size = batch_size)\n",
    "    \n",
    "    return model, history"
   ]
  },
  {
   "cell_type": "code",
   "execution_count": 20,
   "metadata": {},
   "outputs": [],
   "source": [
    "def evaluate_model(model, history, features_train, labels_train, features_test, labels_test, return_plots=False):\n",
    "    test_results = model.evaluate(features_test, labels_test, verbose=1)\n",
    "\n",
    "    test_predictions = model.predict(features_test)\n",
    "    train_predictions = model.predict(features_train)\n",
    "\n",
    "\n",
    "    plt.ioff() \n",
    "    \n",
    "    test_plot = plt.figure()\n",
    "    plt.scatter(labels_test, test_predictions)\n",
    "    plt.xlabel('True Values (Test Data)')\n",
    "    plt.ylabel('Predictions')\n",
    "    #plt.show()\n",
    "\n",
    "    train_plot = plt.figure()\n",
    "    plt.scatter(labels_train, train_predictions)\n",
    "    plt.xlabel('True Values (Train Data)')\n",
    "    plt.ylabel('Predictions')\n",
    "    #plt.show()\n",
    "\n",
    "    history_plot = plt.figure()\n",
    "    plt.plot(history.history['loss'], label='loss')\n",
    "    plt.xlabel('Epoch')\n",
    "    plt.ylabel('Error')\n",
    "    plt.legend()\n",
    "\n",
    "    if return_plots:\n",
    "        return test_results, test_plot, train_plot, history_plot "
   ]
  },
  {
   "cell_type": "code",
   "execution_count": 16,
   "metadata": {},
   "outputs": [
    {
     "name": "stderr",
     "output_type": "stream",
     "text": [
      "100%|██████████| 1144/1144 [02:49<00:00,  6.73it/s]\n"
     ]
    }
   ],
   "source": [
    "volumes = {}\n",
    "for ticker in tqdm(pd.read_csv('IV_Data_2023-04-05/stockpx.csv').set_index('date').columns):\n",
    "    print(ticker)\n",
    "    volume = yf.download(ticker, start=datetime.today()-timedelta(10), interval='1d', progress=False)['Volume']\n",
    "    if len(volume > 0): \n",
    "        volumes[ticker] = volume.mean()\n",
    "    else:\n",
    "        pass\n",
    "    clear_output()"
   ]
  },
  {
   "cell_type": "code",
   "execution_count": 17,
   "metadata": {},
   "outputs": [],
   "source": [
    "ticker_volumes = pd.Series(volumes).sort_values(ascending=False)"
   ]
  },
  {
   "cell_type": "code",
   "execution_count": 24,
   "metadata": {},
   "outputs": [
    {
     "name": "stderr",
     "output_type": "stream",
     "text": [
      "100%|██████████| 20/20 [02:24<00:00,  7.24s/it]"
     ]
    },
    {
     "name": "stdout",
     "output_type": "stream",
     "text": [
      "NIO: 7.439387321472168\n"
     ]
    },
    {
     "name": "stderr",
     "output_type": "stream",
     "text": [
      "\n"
     ]
    }
   ],
   "source": [
    "\n",
    "plt.ioff() \n",
    "results = {}\n",
    "for ticker in tqdm(ticker_volumes.index[:20]):\n",
    "    print(ticker)\n",
    "    features_train, labels_train, features_test, labels_test = preprocess_data(df, ticker, time_steps=5)\n",
    "    model, history = build_and_fit_model(features_train, labels_train, loss_function = 'mean_absolute_percentage_error',\n",
    "                                          learning_rate=0.01, epochs=50, batch_size=32, time_steps=5)\n",
    "    results[ticker] = evaluate_model(model, history, features_train, labels_train, features_test, labels_test, return_plots=True)\n",
    "    clear_output()\n",
    "    print(f'{ticker}: {results[ticker][0]}')"
   ]
  },
  {
   "cell_type": "code",
   "execution_count": 25,
   "metadata": {},
   "outputs": [],
   "source": [
    "res = pd.Series({ticker: results[ticker][0] for ticker in results.keys()}).sort_values()"
   ]
  },
  {
   "cell_type": "code",
   "execution_count": 32,
   "metadata": {},
   "outputs": [
    {
     "data": {
      "image/png": "[encoded data removed]",
      "text/plain": [
       "<Figure size 640x480 with 1 Axes>"
      ]
     },
     "execution_count": 32,
     "metadata": {},
     "output_type": "execute_result"
    }
   ],
   "source": [
    "ticker = 'SOFI'\n",
    "results[ticker][1]"
   ]
  },
  {
   "cell_type": "code",
   "execution_count": 30,
   "metadata": {},
   "outputs": [
    {
     "data": {
      "image/png": "[encoded data removed]",
      "text/plain": [
       "<Figure size 640x480 with 1 Axes>"
      ]
     },
     "execution_count": 30,
     "metadata": {},
     "output_type": "execute_result"
    }
   ],
   "source": [
    "results[ticker][2]"
   ]
  },
  {
   "cell_type": "code",
   "execution_count": 31,
   "metadata": {},
   "outputs": [
    {
     "data": {
      "image/png": "[encoded data removed]",
      "text/plain": [
       "<Figure size 640x480 with 1 Axes>"
      ]
     },
     "execution_count": 31,
     "metadata": {},
     "output_type": "execute_result"
    }
   ],
   "source": [
    "results[ticker][3]"
   ]
  }
 ],
 "metadata": {
  "kernelspec": {
   "display_name": "Python 3",
   "language": "python",
   "name": "python3"
  },
  "language_info": {
   "codemirror_mode": {
    "name": "ipython",
    "version": 3
   },
   "file_extension": ".py",
   "mimetype": "text/x-python",
   "name": "python",
   "nbconvert_exporter": "python",
   "pygments_lexer": "ipython3",
   "version": "3.11.3"
  },
  "orig_nbformat": 4
 },
 "nbformat": 4,
 "nbformat_minor": 2
}
