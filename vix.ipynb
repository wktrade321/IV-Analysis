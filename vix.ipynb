{
 "cells": [
  {
   "cell_type": "code",
   "execution_count": 1,
   "metadata": {},
   "outputs": [],
   "source": [
    "import numpy as np\n",
    "import pandas as pd\n",
    "from pandas.tseries.offsets import BDay\n",
    "from datetime import date, datetime, timedelta\n",
    "import time\n",
    "import yfinance as yf\n",
    "from pyetfdb_scraper import etf\n",
    "from IPython.display import clear_output\n",
    "import requests\n",
    "from bs4 import BeautifulSoup\n",
    "import zipfile\n",
    "from io import BytesIO\n",
    "\n",
    "from plotly.offline import iplot\n",
    "import plotly.graph_objects as go\n",
    "from plotly.subplots import make_subplots\n",
    "import plotly.express as px\n",
    "\n",
    "import vix_utils as vix\n",
    "\n",
    "import asyncio \n",
    "import nest_asyncio\n",
    "nest_asyncio.apply()\n",
    "\n",
    "from selenium import webdriver\n",
    "from webdriver_manager.chrome import ChromeDriverManager\n",
    "from selenium.webdriver.chrome.service import Service\n",
    "from selenium.webdriver.chrome.options import Options\n",
    "from selenium.webdriver.common.by import By\n",
    "import selenium.common.exceptions\n",
    "\n",
    "\n",
    "chrome_options = Options()\n",
    "chrome_options.add_argument('--no-sandbox')\n",
    "chrome_options.add_argument('--headless')\n",
    "chrome_options.add_argument('--disable-dev-shm-usage')\n",
    "chrome_options.add_argument('--start-maximized')\n",
    "chrome_options.page_load_strategy = 'eager'\n",
    "\n",
    "\n",
    "from statsmodels.graphics.tsaplots import plot_acf\n",
    "\n",
    "\n",
    "from sklearn.linear_model import LinearRegression"
   ]
  },
  {
   "cell_type": "code",
   "execution_count": null,
   "metadata": {},
   "outputs": [],
   "source": [
    "\"\"\"\n",
    "df = yf.Ticker('VXX').history(period='max',  interval='1wk')\n",
    "\n",
    "df = df.drop(['High', 'Low','Dividends','Stock Splits','Capital Gains'],axis=1)\n",
    "df['return_close'] = df['Close'].pct_change()\n",
    "df['return_close_lag'] = df['return_close'].shift(1)\n",
    "px.scatter(df, x='return_close_lag', y='return_close')\n",
    "df[['return_close_lag', 'return_close']].corr()\n",
    "px.line(df, x=df.index, y = 'return_close')\n",
    "df['return_close_2'] = df['Close'].pct_change(2)\n",
    "df['return_close_3'] = df['Close'].pct_change(3)\n",
    "df['return_close_4'] = df['Close'].pct_change(4)\n",
    "df[['return_close', 'return_close_2', 'return_close_3', 'return_close_4']].corr()\n",
    "px.histogram(df[df['return_close_lag'] > 0.05],x='return_close')\n",
    "df[df['return_close_lag'] < 0.1]['return_close'].mean() \n",
    "\"\"\""
   ]
  }
 ],
 "metadata": {
  "kernelspec": {
   "display_name": "Python 3",
   "language": "python",
   "name": "python3"
  },
  "language_info": {
   "codemirror_mode": {
    "name": "ipython",
    "version": 3
   },
   "file_extension": ".py",
   "mimetype": "text/x-python",
   "name": "python",
   "nbconvert_exporter": "python",
   "pygments_lexer": "ipython3",
   "version": "3.11.3"
  },
  "orig_nbformat": 4
 },
 "nbformat": 4,
 "nbformat_minor": 2
}
